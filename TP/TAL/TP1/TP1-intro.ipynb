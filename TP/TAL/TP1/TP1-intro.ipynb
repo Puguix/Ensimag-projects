{
 "cells": [
  {
   "cell_type": "markdown",
   "metadata": {},
   "source": [
    "# Basics of NLP: DataFrame rudiments and spaCy"
   ]
  },
  {
   "cell_type": "markdown",
   "metadata": {},
   "source": [
    "## Libraries \n",
    "\n",
    "We will consider a corpus of radio recordings in french (source: France inter, RFI, ...) :  RADIOS.txt\n"
   ]
  },
  {
   "cell_type": "markdown",
   "metadata": {},
   "source": [
    "The first step in writing python code is determining which libraries we want to use. To stay organized, we generally import all libraries at the top (of a notebook or a standalone python file)."
   ]
  },
  {
   "cell_type": "code",
   "execution_count": 18,
   "metadata": {},
   "outputs": [],
   "source": [
    "#import four important libraries\n",
    "import pandas as pd\n",
    "#pandas is the most popular data science library. It is used\n",
    "#for organizing data into columns.\n",
    "#See more here: https://pandas.pydata.org/\n",
    "\n",
    "import re\n",
    "#re is the python library for regular expressions. It is\n",
    "#difficult to master, but very useful.\n",
    "#See more here: https://docs.python.org/3/library/re.html\n",
    "\n",
    "import matplotlib.pyplot as plt\n",
    "#matplotlib is the most popular and simple library for\n",
    "#scientific plots in python. The pyplot submodule is\n",
    "#a data scientist's bread and butter for data visualization.\n",
    "#See more here: https://matplotlib.org/2.0.2/api/pyplot_api.html\n",
    "\n",
    "import xml.etree.ElementTree as ET\n",
    "#ElementTree is a library for parsing XML in python.\n",
    "#This is a useful skill for data scientists, as lots of data\n",
    "#is published in XML form. There are other libraries for this,\n",
    "#such as untangle or xmltodict; however, ElementTree is lower level.\n",
    "#See more here: https://docs.python.org/3/library/xml.etree.elementtree.html\n",
    "\n",
    "from numpy import log, concatenate\n",
    "#we will need a logarithm function; numpy is a standard mathematical\n",
    "#library"
   ]
  },
  {
   "cell_type": "markdown",
   "metadata": {},
   "source": [
    "## Pandas Dataframe basics\n",
    "\n",
    "In this TP we use Pandas [DataFrames](https://pandas.pydata.org/docs/reference/api/pandas.DataFrame.html) to manage our dataset. Pandas is a standard tool in data science."
   ]
  },
  {
   "cell_type": "code",
   "execution_count": 19,
   "metadata": {},
   "outputs": [],
   "source": [
    "#read the dataset as a DataFrame\n",
    "df_radios = pd.read_csv('RADIOS.txt', names=['text'])"
   ]
  },
  {
   "cell_type": "code",
   "execution_count": 20,
   "metadata": {},
   "outputs": [
    {
     "name": "stdout",
     "output_type": "stream",
     "text": [
      "35356\n"
     ]
    },
    {
     "data": {
      "text/html": [
       "<div>\n",
       "<style scoped>\n",
       "    .dataframe tbody tr th:only-of-type {\n",
       "        vertical-align: middle;\n",
       "    }\n",
       "\n",
       "    .dataframe tbody tr th {\n",
       "        vertical-align: top;\n",
       "    }\n",
       "\n",
       "    .dataframe thead th {\n",
       "        text-align: right;\n",
       "    }\n",
       "</style>\n",
       "<table border=\"1\" class=\"dataframe\">\n",
       "  <thead>\n",
       "    <tr style=\"text-align: right;\">\n",
       "      <th></th>\n",
       "      <th>text</th>\n",
       "    </tr>\n",
       "  </thead>\n",
       "  <tbody>\n",
       "    <tr>\n",
       "      <th>0</th>\n",
       "      <td>patricia martin que voici que voilà</td>\n",
       "    </tr>\n",
       "    <tr>\n",
       "      <th>1</th>\n",
       "      <td>oh bonjour nicolas stoufflet</td>\n",
       "    </tr>\n",
       "    <tr>\n",
       "      <th>2</th>\n",
       "      <td>france-inter sept heures</td>\n",
       "    </tr>\n",
       "    <tr>\n",
       "      <th>3</th>\n",
       "      <td>le journal simon tivolle</td>\n",
       "    </tr>\n",
       "    <tr>\n",
       "      <th>4</th>\n",
       "      <td>bonjour</td>\n",
       "    </tr>\n",
       "  </tbody>\n",
       "</table>\n",
       "</div>"
      ],
      "text/plain": [
       "                                  text\n",
       "0  patricia martin que voici que voilà\n",
       "1         oh bonjour nicolas stoufflet\n",
       "2             france-inter sept heures\n",
       "3             le journal simon tivolle\n",
       "4                              bonjour"
      ]
     },
     "execution_count": 20,
     "metadata": {},
     "output_type": "execute_result"
    }
   ],
   "source": [
    "print(len(df_radios))\n",
    "df_radios.head()"
   ]
  },
  {
   "cell_type": "markdown",
   "metadata": {},
   "source": [
    "We can list the columns of a dataset ````df```` by calling ````df.columns````.\n",
    "\n",
    "**Question**: What are the columns of the dataset ````df_radios````?"
   ]
  },
  {
   "cell_type": "code",
   "execution_count": 21,
   "metadata": {},
   "outputs": [
    {
     "data": {
      "text/plain": [
       "Index(['text'], dtype='object')"
      ]
     },
     "execution_count": 21,
     "metadata": {},
     "output_type": "execute_result"
    }
   ],
   "source": [
    "df_radios.columns\n",
    "#todo: explain each column"
   ]
  },
  {
   "cell_type": "markdown",
   "metadata": {},
   "source": [
    "**Answer**: There is only one column, which is named 'text'. It contains text."
   ]
  },
  {
   "cell_type": "markdown",
   "metadata": {},
   "source": [
    "We can access to a specific using ````df.loc[i]```` or ````df.iloc[i]```` \n",
    "\n",
    "\n",
    "**Question**: What is the difference between .loc and .iloc?"
   ]
  },
  {
   "cell_type": "markdown",
   "metadata": {},
   "source": [
    "**Answer**: loc is used to access by name and iloc by index."
   ]
  },
  {
   "cell_type": "code",
   "execution_count": 22,
   "metadata": {},
   "outputs": [
    {
     "data": {
      "text/plain": [
       "'bonjour'"
      ]
     },
     "execution_count": 22,
     "metadata": {},
     "output_type": "execute_result"
    }
   ],
   "source": [
    "#todo: save the text value of the 5th element of our dataset into the one_text variable. \n",
    "one_text = df_radios.iloc[4].text\n",
    "\n",
    "one_text"
   ]
  },
  {
   "cell_type": "markdown",
   "metadata": {},
   "source": [
    "We can count the number of words in a string using the ````len```` function and ````split```` method of strings. For example:\n",
    "\n",
    "\n",
    "```\n",
    "string = \"bla bla bla\"\n",
    "len(string.split(\" \"))\n",
    ">>> 3\n",
    "```\n",
    "\n",
    "**Question**: Fill in the following function and run it for a our ````one_text```` example. \n",
    "\n",
    "\n",
    "\n",
    "\n"
   ]
  },
  {
   "cell_type": "code",
   "execution_count": 23,
   "metadata": {},
   "outputs": [
    {
     "data": {
      "text/plain": [
       "1"
      ]
     },
     "execution_count": 23,
     "metadata": {},
     "output_type": "execute_result"
    }
   ],
   "source": [
    "def num_words(sentence):\n",
    "    '''\n",
    "    Calculate the number of words in the sentence.\n",
    "    '''\n",
    "    return len(sentence.split(\" \"))\n",
    "\n",
    "num_words(one_text)"
   ]
  },
  {
   "cell_type": "markdown",
   "metadata": {},
   "source": [
    "\n",
    "Furthermore, we can calculate values for each row, based on a specific column, using the ````apply```` method:\n",
    "\n",
    "```\n",
    "lengths = df.column_name.apply(lambda text: num_words(text))\n",
    "```\n",
    "\n",
    "This will give us a [pandas Series](https://pandas.pydata.org/docs/reference/api/pandas.Series.html) of the lengths of each text.\n",
    "\n",
    "**Question**: Add the length of each text as a new column in the dataframe (see [pandas docs](https://pandas.pydata.org/docs/user_guide/dsintro.html#basics-dataframe-sel-add-del) for details). \n",
    "\n",
    "**Question**: What is the distribution of the length of the texts in words? Visualize this using a python plot (see [plt.hist](https://matplotlib.org/stable/api/_as_gen/matplotlib.pyplot.hist.html)).\n",
    "\n"
   ]
  },
  {
   "cell_type": "code",
   "execution_count": 24,
   "metadata": {},
   "outputs": [
    {
     "data": {
      "text/plain": [
       "(array([1.2295e+04, 9.6080e+03, 5.9810e+03, 3.1830e+03, 1.4720e+03,\n",
       "        8.0400e+02, 4.9600e+02, 3.2700e+02, 2.0900e+02, 1.4300e+02,\n",
       "        1.3100e+02, 1.0100e+02, 8.5000e+01, 8.4000e+01, 6.3000e+01,\n",
       "        5.0000e+01, 4.7000e+01, 2.7000e+01, 3.1000e+01, 3.6000e+01,\n",
       "        3.9000e+01, 1.4000e+01, 2.6000e+01, 1.2000e+01, 1.6000e+01,\n",
       "        1.0000e+01, 1.3000e+01, 9.0000e+00, 5.0000e+00, 2.0000e+00,\n",
       "        5.0000e+00, 3.0000e+00, 6.0000e+00, 2.0000e+00, 2.0000e+00,\n",
       "        2.0000e+00, 1.0000e+00, 0.0000e+00, 1.0000e+00, 1.0000e+00,\n",
       "        2.0000e+00, 0.0000e+00, 2.0000e+00, 2.0000e+00, 0.0000e+00,\n",
       "        2.0000e+00, 1.0000e+00, 1.0000e+00, 2.0000e+00, 0.0000e+00,\n",
       "        1.0000e+00, 0.0000e+00, 0.0000e+00, 0.0000e+00, 0.0000e+00,\n",
       "        0.0000e+00, 0.0000e+00, 0.0000e+00, 0.0000e+00, 0.0000e+00,\n",
       "        0.0000e+00, 0.0000e+00, 0.0000e+00, 0.0000e+00, 0.0000e+00,\n",
       "        0.0000e+00, 0.0000e+00, 0.0000e+00, 0.0000e+00, 0.0000e+00,\n",
       "        0.0000e+00, 0.0000e+00, 0.0000e+00, 0.0000e+00, 0.0000e+00,\n",
       "        0.0000e+00, 0.0000e+00, 0.0000e+00, 0.0000e+00, 0.0000e+00,\n",
       "        0.0000e+00, 0.0000e+00, 0.0000e+00, 0.0000e+00, 0.0000e+00,\n",
       "        0.0000e+00, 0.0000e+00, 0.0000e+00, 0.0000e+00, 0.0000e+00,\n",
       "        0.0000e+00, 0.0000e+00, 0.0000e+00, 0.0000e+00, 0.0000e+00,\n",
       "        0.0000e+00, 0.0000e+00, 0.0000e+00, 0.0000e+00, 1.0000e+00]),\n",
       " array([1.0000e+00, 1.2300e+01, 2.3600e+01, 3.4900e+01, 4.6200e+01,\n",
       "        5.7500e+01, 6.8800e+01, 8.0100e+01, 9.1400e+01, 1.0270e+02,\n",
       "        1.1400e+02, 1.2530e+02, 1.3660e+02, 1.4790e+02, 1.5920e+02,\n",
       "        1.7050e+02, 1.8180e+02, 1.9310e+02, 2.0440e+02, 2.1570e+02,\n",
       "        2.2700e+02, 2.3830e+02, 2.4960e+02, 2.6090e+02, 2.7220e+02,\n",
       "        2.8350e+02, 2.9480e+02, 3.0610e+02, 3.1740e+02, 3.2870e+02,\n",
       "        3.4000e+02, 3.5130e+02, 3.6260e+02, 3.7390e+02, 3.8520e+02,\n",
       "        3.9650e+02, 4.0780e+02, 4.1910e+02, 4.3040e+02, 4.4170e+02,\n",
       "        4.5300e+02, 4.6430e+02, 4.7560e+02, 4.8690e+02, 4.9820e+02,\n",
       "        5.0950e+02, 5.2080e+02, 5.3210e+02, 5.4340e+02, 5.5470e+02,\n",
       "        5.6600e+02, 5.7730e+02, 5.8860e+02, 5.9990e+02, 6.1120e+02,\n",
       "        6.2250e+02, 6.3380e+02, 6.4510e+02, 6.5640e+02, 6.6770e+02,\n",
       "        6.7900e+02, 6.9030e+02, 7.0160e+02, 7.1290e+02, 7.2420e+02,\n",
       "        7.3550e+02, 7.4680e+02, 7.5810e+02, 7.6940e+02, 7.8070e+02,\n",
       "        7.9200e+02, 8.0330e+02, 8.1460e+02, 8.2590e+02, 8.3720e+02,\n",
       "        8.4850e+02, 8.5980e+02, 8.7110e+02, 8.8240e+02, 8.9370e+02,\n",
       "        9.0500e+02, 9.1630e+02, 9.2760e+02, 9.3890e+02, 9.5020e+02,\n",
       "        9.6150e+02, 9.7280e+02, 9.8410e+02, 9.9540e+02, 1.0067e+03,\n",
       "        1.0180e+03, 1.0293e+03, 1.0406e+03, 1.0519e+03, 1.0632e+03,\n",
       "        1.0745e+03, 1.0858e+03, 1.0971e+03, 1.1084e+03, 1.1197e+03,\n",
       "        1.1310e+03]),\n",
       " <BarContainer object of 100 artists>)"
      ]
     },
     "execution_count": 24,
     "metadata": {},
     "output_type": "execute_result"
    },
    {
     "data": {
      "image/png": "[encoded data removed]",
      "text/plain": [
       "<Figure size 432x288 with 1 Axes>"
      ]
     },
     "metadata": {
      "needs_background": "light"
     },
     "output_type": "display_data"
    }
   ],
   "source": [
    "df_radios['lengths'] = df_radios.text.apply(num_words)\n",
    "\n",
    "## to plot \n",
    "plt.hist(df_radios.lengths,bins=100) "
   ]
  },
  {
   "cell_type": "markdown",
   "metadata": {},
   "source": [
    "We can filter a dataframe using criteria based on values in certain columns. The basic syntax for this is:\n",
    "\n",
    "````\n",
    "new_df = df[df[\"column\"].apply(lambda row_value: my_func(row_value) == some_value)]\n",
    "````\n",
    "\n",
    "This gives a new DataFrame composed of all elements of ````df```` such the values of the function ````myfunc````, calculated for the value of column \"column\" for each row is equal to some_value. For example, if we wanted all rows that begin with \"a\", we could run:\n",
    "\n",
    "````\n",
    "df_letter_A = df[df[\"text\"].apply(lambda text: text[0] == \"a\")]\n",
    "````\n",
    "\n",
    "**Question**: Retain only documents with at least 50 words"
   ]
  },
  {
   "cell_type": "code",
   "execution_count": 25,
   "metadata": {},
   "outputs": [
    {
     "data": {
      "text/html": [
       "<div>\n",
       "<style scoped>\n",
       "    .dataframe tbody tr th:only-of-type {\n",
       "        vertical-align: middle;\n",
       "    }\n",
       "\n",
       "    .dataframe tbody tr th {\n",
       "        vertical-align: top;\n",
       "    }\n",
       "\n",
       "    .dataframe thead th {\n",
       "        text-align: right;\n",
       "    }\n",
       "</style>\n",
       "<table border=\"1\" class=\"dataframe\">\n",
       "  <thead>\n",
       "    <tr style=\"text-align: right;\">\n",
       "      <th></th>\n",
       "      <th>text</th>\n",
       "      <th>lengths</th>\n",
       "    </tr>\n",
       "  </thead>\n",
       "  <tbody>\n",
       "    <tr>\n",
       "      <th>34</th>\n",
       "      <td>il quitte l' école à douze ans pour aider son ...</td>\n",
       "      <td>56</td>\n",
       "    </tr>\n",
       "    <tr>\n",
       "      <th>42</th>\n",
       "      <td>selon jack lang césar était était l' une des f...</td>\n",
       "      <td>62</td>\n",
       "    </tr>\n",
       "    <tr>\n",
       "      <th>45</th>\n",
       "      <td>la chaîne de l' espoir c'est une association c...</td>\n",
       "      <td>52</td>\n",
       "    </tr>\n",
       "    <tr>\n",
       "      <th>46</th>\n",
       "      <td>l' association a été créée par un professeur e...</td>\n",
       "      <td>55</td>\n",
       "    </tr>\n",
       "    <tr>\n",
       "      <th>100</th>\n",
       "      <td>nicole notat est arrivée en trois ans à réduir...</td>\n",
       "      <td>60</td>\n",
       "    </tr>\n",
       "  </tbody>\n",
       "</table>\n",
       "</div>"
      ],
      "text/plain": [
       "                                                  text  lengths\n",
       "34   il quitte l' école à douze ans pour aider son ...       56\n",
       "42   selon jack lang césar était était l' une des f...       62\n",
       "45   la chaîne de l' espoir c'est une association c...       52\n",
       "46   l' association a été créée par un professeur e...       55\n",
       "100  nicole notat est arrivée en trois ans à réduir...       60"
      ]
     },
     "execution_count": 25,
     "metadata": {},
     "output_type": "execute_result"
    }
   ],
   "source": [
    "df_long_documents = df_radios[df_radios.text.apply(lambda text: num_words(text) >= 50)]\n",
    "\n",
    "df_long_documents.head()"
   ]
  },
  {
   "cell_type": "markdown",
   "metadata": {},
   "source": [
    "### Finding useful information in the text:\n",
    "\n",
    "We will implement regular expresions (regex) to filter the text according to a specific condiction. \n",
    "\n",
    "To implement the regex evaluation in Pandas we use the [`Series.str.contains`](https://pandas.pydata.org/pandas-docs/stable/reference/api/pandas.Series.str.contains.html) filtering function, as :\n",
    "\n",
    "```` df.column_name.str.contains('[a-z]', regex=True)````\n",
    "\n",
    "Also useful: `match`, `Series.str.startswith`, `Series.str.endswith`\n",
    "\n",
    "\n",
    "**Question**  : How many texts are there with at least one word of 9 letters in RADIOS.txt?\n",
    "\n",
    "**Question**  : Are there any texts with words without vowels in RADIOS.txt?\n",
    "\n",
    "\n",
    "You can use the following regexs : "
   ]
  },
  {
   "cell_type": "markdown",
   "metadata": {},
   "source": [
    "| regex | Description |\n",
    "|--------|--------------------|\n",
    "|`'[A-Z]'`|filtre lignes contenant une majuscule|\n",
    "|`'^[A-Z]'`|filtre lignes commençant par une majuscule|\n",
    "|`'[A-Z]$'`|filtre lignes finissant par une majuscule|\n",
    "|`'^[A-Z]*$'`|filtre lignes entièrement majuscules|\n",
    "|`'[aeiouAEIOU]'`|filtre lignes contenant une voyelle|\n",
    "|`'^[aeiouAEIOU]'`|filtre lignes commençant par une voyelle|\n",
    "|`'[aeiouAEIOU]$'`|filtre lignes finissant par une voyelle|\n",
    "|`'^[^aeiouAEIOU]'`|filtre lignes commençant par une non-voyelle|\n",
    "|`'[^aeiouAEIOU]$'`|filtre lignes finissant par une non-voyelle|\n",
    "|`'[aeiouAEIOU].*[aeiouAEIOU]'`|filtre lignes avec au moins deux voyelles|\n",
    "|`'^[^aeiouAEIOU]*[aeiouAEIOU][^aeiouAEIOU]*$'`| filtre lignes avec exactement une voyelle|\n",
    "\n",
    "Avec expressions régulières:\n",
    "\n",
    "| Expression | Match |\n",
    "|--------|--------------------|\n",
    "|`a`|la lettre \"a\"|\n",
    "|`[a-z]`|une lettre minuscule|\n",
    "|`[A-Z]`|une lettre majuscule|\n",
    "|`[0-9]`|un chiffre|\n",
    "|`[0123456789]`|un chiffre|\n",
    "|`[aeiouAEIOU]`|une voyelle|\n",
    "|`[^aeiouAEIOU]`|tout sauf une voyelle|\n",
    "|`.`|un caractère|\n",
    "|`^`|début de ligne|\n",
    "|`$`|fin de ligne|\n",
    "|`x*`| \"x\" répété 0 fois ou plus|\n",
    "|``x+``| \"x\" répété 1 fois ou plus|\n",
    "|`x\\|y`| \"x\" ou \"y\"|"
   ]
  },
  {
   "cell_type": "code",
   "execution_count": 26,
   "metadata": {},
   "outputs": [
    {
     "data": {
      "text/html": [
       "<div>\n",
       "<style scoped>\n",
       "    .dataframe tbody tr th:only-of-type {\n",
       "        vertical-align: middle;\n",
       "    }\n",
       "\n",
       "    .dataframe tbody tr th {\n",
       "        vertical-align: top;\n",
       "    }\n",
       "\n",
       "    .dataframe thead th {\n",
       "        text-align: right;\n",
       "    }\n",
       "</style>\n",
       "<table border=\"1\" class=\"dataframe\">\n",
       "  <thead>\n",
       "    <tr style=\"text-align: right;\">\n",
       "      <th></th>\n",
       "      <th>text</th>\n",
       "      <th>lengths</th>\n",
       "      <th>a-z</th>\n",
       "    </tr>\n",
       "  </thead>\n",
       "  <tbody>\n",
       "    <tr>\n",
       "      <th>0</th>\n",
       "      <td>patricia martin que voici que voilà</td>\n",
       "      <td>6</td>\n",
       "      <td>True</td>\n",
       "    </tr>\n",
       "    <tr>\n",
       "      <th>1</th>\n",
       "      <td>oh bonjour nicolas stoufflet</td>\n",
       "      <td>4</td>\n",
       "      <td>True</td>\n",
       "    </tr>\n",
       "    <tr>\n",
       "      <th>2</th>\n",
       "      <td>france-inter sept heures</td>\n",
       "      <td>3</td>\n",
       "      <td>True</td>\n",
       "    </tr>\n",
       "    <tr>\n",
       "      <th>3</th>\n",
       "      <td>le journal simon tivolle</td>\n",
       "      <td>4</td>\n",
       "      <td>True</td>\n",
       "    </tr>\n",
       "    <tr>\n",
       "      <th>4</th>\n",
       "      <td>bonjour</td>\n",
       "      <td>1</td>\n",
       "      <td>True</td>\n",
       "    </tr>\n",
       "  </tbody>\n",
       "</table>\n",
       "</div>"
      ],
      "text/plain": [
       "                                  text  lengths   a-z\n",
       "0  patricia martin que voici que voilà        6  True\n",
       "1         oh bonjour nicolas stoufflet        4  True\n",
       "2             france-inter sept heures        3  True\n",
       "3             le journal simon tivolle        4  True\n",
       "4                              bonjour        1  True"
      ]
     },
     "execution_count": 26,
     "metadata": {},
     "output_type": "execute_result"
    }
   ],
   "source": [
    "## For example: \n",
    "df_radios['a-z'] = df_radios.text.str.contains('[a-z]', regex=True)\n",
    "df_radios[df_radios['a-z']].head()"
   ]
  },
  {
   "cell_type": "code",
   "execution_count": 27,
   "metadata": {},
   "outputs": [
    {
     "data": {
      "text/plain": [
       "26559"
      ]
     },
     "execution_count": 27,
     "metadata": {},
     "output_type": "execute_result"
    }
   ],
   "source": [
    "len(df_radios[df_radios.text.str.contains('\\w{9}', regex=True)])"
   ]
  },
  {
   "cell_type": "code",
   "execution_count": 28,
   "metadata": {},
   "outputs": [
    {
     "data": {
      "text/plain": [
       "55"
      ]
     },
     "execution_count": 28,
     "metadata": {},
     "output_type": "execute_result"
    }
   ],
   "source": [
    "len(df_radios[~df_radios.text.str.contains('[aeiouyàéèêùôAEIOUY]', regex=True)])"
   ]
  },
  {
   "cell_type": "markdown",
   "metadata": {},
   "source": [
    "## Vocabulary \n",
    "\n",
    "We will create a a dictionary as the vocabulary for our corpus of texts. \n",
    "Create a dictionary where each key is a word and the value will be its frequency. \n",
    "\n",
    "```` texts_vocab = {'key1':value, 'key2':value} ````\n",
    "\n",
    "**Question** Create a Vocabulary of bigrams and trigrams \n",
    "\n",
    "**Question** How many different words exist in our corpus of texts?\n",
    "\n",
    "**Question**: What is the frequency distribution of the words? use ```plt.hist```\n",
    "\n",
    "**Question** [optional] How many bigrams and trigrams exist? Visualize the frequency distribution. \n",
    "\n"
   ]
  },
  {
   "cell_type": "code",
   "execution_count": 29,
   "metadata": {},
   "outputs": [],
   "source": [
    "text_vocab = pd.Series(' '.join(df_radios.text).split()).value_counts().to_dict()"
   ]
  },
  {
   "cell_type": "markdown",
   "metadata": {},
   "source": [
    "## Introduction to spaCy"
   ]
  },
  {
   "cell_type": "markdown",
   "metadata": {},
   "source": [
    "spaCy is a package that performs some basic NLP tasks for us, based on training on a large corpus. We can import spaCy libraries for different languages and of different complexities (often in small, medium, and large sizes, where larger means slower to use but with slightly more precise behaviour). For our use case, we will \"fr_core_news_sm\", which is the small French language  model.\n",
    "\n",
    "For basic questions about spaCy, refer to the documentation [here](https://spacy.io/usage/spacy-101)."
   ]
  },
  {
   "cell_type": "code",
   "execution_count": 30,
   "metadata": {},
   "outputs": [
    {
     "name": "stdout",
     "output_type": "stream",
     "text": [
      "Defaulting to user installation because normal site-packages is not writeable\n",
      "Collecting fr-core-news-sm==3.7.0\n",
      "  Downloading https://github.com/explosion/spacy-models/releases/download/fr_core_news_sm-3.7.0/fr_core_news_sm-3.7.0-py3-none-any.whl (16.3 MB)\n",
      "\u001b[2K     \u001b[38;2;114;156;31m━━━━━━━━━━━━━━━━━━━━━━━━━━━━━━━━━━━━━━━\u001b[0m \u001b[32m16.3/16.3 MB\u001b[0m \u001b[31m916.3 kB/s\u001b[0m eta \u001b[36m0:00:00\u001b[0mm eta \u001b[36m0:00:01\u001b[0m[36m0:00:01\u001b[0m\n",
      "\u001b[?25hRequirement already satisfied: spacy<3.8.0,>=3.7.0 in /home/puguix/.local/lib/python3.10/site-packages (from fr-core-news-sm==3.7.0) (3.7.4)\n",
      "Requirement already satisfied: spacy-legacy<3.1.0,>=3.0.11 in /home/puguix/.local/lib/python3.10/site-packages (from spacy<3.8.0,>=3.7.0->fr-core-news-sm==3.7.0) (3.0.12)\n",
      "Requirement already satisfied: wasabi<1.2.0,>=0.9.1 in /home/puguix/.local/lib/python3.10/site-packages (from spacy<3.8.0,>=3.7.0->fr-core-news-sm==3.7.0) (1.1.2)\n",
      "Requirement already satisfied: requests<3.0.0,>=2.13.0 in /usr/local/lib/python3.10/dist-packages (from spacy<3.8.0,>=3.7.0->fr-core-news-sm==3.7.0) (2.31.0)\n",
      "Requirement already satisfied: langcodes<4.0.0,>=3.2.0 in /home/puguix/.local/lib/python3.10/site-packages (from spacy<3.8.0,>=3.7.0->fr-core-news-sm==3.7.0) (3.3.0)\n",
      "Requirement already satisfied: smart-open<7.0.0,>=5.2.1 in /home/puguix/.local/lib/python3.10/site-packages (from spacy<3.8.0,>=3.7.0->fr-core-news-sm==3.7.0) (6.4.0)\n",
      "Requirement already satisfied: spacy-loggers<2.0.0,>=1.0.0 in /home/puguix/.local/lib/python3.10/site-packages (from spacy<3.8.0,>=3.7.0->fr-core-news-sm==3.7.0) (1.0.5)\n",
      "Requirement already satisfied: pydantic!=1.8,!=1.8.1,<3.0.0,>=1.7.4 in /home/puguix/.local/lib/python3.10/site-packages (from spacy<3.8.0,>=3.7.0->fr-core-news-sm==3.7.0) (2.6.0)\n",
      "Requirement already satisfied: typer<0.10.0,>=0.3.0 in /home/puguix/.local/lib/python3.10/site-packages (from spacy<3.8.0,>=3.7.0->fr-core-news-sm==3.7.0) (0.9.0)\n",
      "Requirement already satisfied: weasel<0.4.0,>=0.1.0 in /home/puguix/.local/lib/python3.10/site-packages (from spacy<3.8.0,>=3.7.0->fr-core-news-sm==3.7.0) (0.3.4)\n",
      "Requirement already satisfied: preshed<3.1.0,>=3.0.2 in /home/puguix/.local/lib/python3.10/site-packages (from spacy<3.8.0,>=3.7.0->fr-core-news-sm==3.7.0) (3.0.9)\n",
      "Requirement already satisfied: catalogue<2.1.0,>=2.0.6 in /home/puguix/.local/lib/python3.10/site-packages (from spacy<3.8.0,>=3.7.0->fr-core-news-sm==3.7.0) (2.0.10)\n",
      "Requirement already satisfied: murmurhash<1.1.0,>=0.28.0 in /home/puguix/.local/lib/python3.10/site-packages (from spacy<3.8.0,>=3.7.0->fr-core-news-sm==3.7.0) (1.0.10)\n",
      "Requirement already satisfied: cymem<2.1.0,>=2.0.2 in /home/puguix/.local/lib/python3.10/site-packages (from spacy<3.8.0,>=3.7.0->fr-core-news-sm==3.7.0) (2.0.8)\n",
      "Requirement already satisfied: srsly<3.0.0,>=2.4.3 in /home/puguix/.local/lib/python3.10/site-packages (from spacy<3.8.0,>=3.7.0->fr-core-news-sm==3.7.0) (2.4.8)\n",
      "Requirement already satisfied: packaging>=20.0 in /home/puguix/.local/lib/python3.10/site-packages (from spacy<3.8.0,>=3.7.0->fr-core-news-sm==3.7.0) (23.2)\n",
      "Requirement already satisfied: numpy>=1.19.0 in /usr/local/lib/python3.10/dist-packages (from spacy<3.8.0,>=3.7.0->fr-core-news-sm==3.7.0) (1.26.2)\n",
      "Requirement already satisfied: tqdm<5.0.0,>=4.38.0 in /home/puguix/.local/lib/python3.10/site-packages (from spacy<3.8.0,>=3.7.0->fr-core-news-sm==3.7.0) (4.65.0)\n",
      "Requirement already satisfied: setuptools in /home/puguix/.local/lib/python3.10/site-packages (from spacy<3.8.0,>=3.7.0->fr-core-news-sm==3.7.0) (65.5.1)\n",
      "Requirement already satisfied: thinc<8.3.0,>=8.2.2 in /home/puguix/.local/lib/python3.10/site-packages (from spacy<3.8.0,>=3.7.0->fr-core-news-sm==3.7.0) (8.2.3)\n",
      "Requirement already satisfied: jinja2 in /home/puguix/.local/lib/python3.10/site-packages (from spacy<3.8.0,>=3.7.0->fr-core-news-sm==3.7.0) (3.1.3)\n",
      "Requirement already satisfied: annotated-types>=0.4.0 in /home/puguix/.local/lib/python3.10/site-packages (from pydantic!=1.8,!=1.8.1,<3.0.0,>=1.7.4->spacy<3.8.0,>=3.7.0->fr-core-news-sm==3.7.0) (0.6.0)\n",
      "Requirement already satisfied: pydantic-core==2.16.1 in /home/puguix/.local/lib/python3.10/site-packages (from pydantic!=1.8,!=1.8.1,<3.0.0,>=1.7.4->spacy<3.8.0,>=3.7.0->fr-core-news-sm==3.7.0) (2.16.1)\n",
      "Requirement already satisfied: typing-extensions>=4.6.1 in /home/puguix/.local/lib/python3.10/site-packages (from pydantic!=1.8,!=1.8.1,<3.0.0,>=1.7.4->spacy<3.8.0,>=3.7.0->fr-core-news-sm==3.7.0) (4.9.0)\n",
      "Requirement already satisfied: certifi>=2017.4.17 in /usr/lib/python3/dist-packages (from requests<3.0.0,>=2.13.0->spacy<3.8.0,>=3.7.0->fr-core-news-sm==3.7.0) (2020.6.20)\n",
      "Requirement already satisfied: idna<4,>=2.5 in /usr/lib/python3/dist-packages (from requests<3.0.0,>=2.13.0->spacy<3.8.0,>=3.7.0->fr-core-news-sm==3.7.0) (3.3)\n",
      "Requirement already satisfied: charset-normalizer<4,>=2 in /home/puguix/.local/lib/python3.10/site-packages (from requests<3.0.0,>=2.13.0->spacy<3.8.0,>=3.7.0->fr-core-news-sm==3.7.0) (2.1.1)\n",
      "Requirement already satisfied: urllib3<3,>=1.21.1 in /usr/lib/python3/dist-packages (from requests<3.0.0,>=2.13.0->spacy<3.8.0,>=3.7.0->fr-core-news-sm==3.7.0) (1.26.5)\n",
      "Requirement already satisfied: blis<0.8.0,>=0.7.8 in /home/puguix/.local/lib/python3.10/site-packages (from thinc<8.3.0,>=8.2.2->spacy<3.8.0,>=3.7.0->fr-core-news-sm==3.7.0) (0.7.11)\n",
      "Requirement already satisfied: confection<1.0.0,>=0.0.1 in /home/puguix/.local/lib/python3.10/site-packages (from thinc<8.3.0,>=8.2.2->spacy<3.8.0,>=3.7.0->fr-core-news-sm==3.7.0) (0.1.4)\n",
      "Requirement already satisfied: click<9.0.0,>=7.1.1 in /home/puguix/.local/lib/python3.10/site-packages (from typer<0.10.0,>=0.3.0->spacy<3.8.0,>=3.7.0->fr-core-news-sm==3.7.0) (8.1.7)\n",
      "Requirement already satisfied: cloudpathlib<0.17.0,>=0.7.0 in /home/puguix/.local/lib/python3.10/site-packages (from weasel<0.4.0,>=0.1.0->spacy<3.8.0,>=3.7.0->fr-core-news-sm==3.7.0) (0.16.0)\n",
      "Requirement already satisfied: MarkupSafe>=2.0 in /home/puguix/.local/lib/python3.10/site-packages (from jinja2->spacy<3.8.0,>=3.7.0->fr-core-news-sm==3.7.0) (2.1.5)\n",
      "\u001b[38;5;2m✔ Download and installation successful\u001b[0m\n",
      "You can now load the package via spacy.load('fr_core_news_sm')\n"
     ]
    }
   ],
   "source": [
    "!python -m spacy download fr_core_news_sm"
   ]
  },
  {
   "cell_type": "code",
   "execution_count": 31,
   "metadata": {},
   "outputs": [],
   "source": [
    "import spacy\n",
    "from spacy.lang.fr.examples import sentences \n",
    "# nlp = spacy.load(\"en_core_web_sm\") \n",
    "nlp = spacy.load(\"fr_core_news_sm\")  #this could take a minute to download the first time\n"
   ]
  },
  {
   "cell_type": "markdown",
   "metadata": {},
   "source": [
    "The ````nlp```` object can be used to analyze documents. For example:\n",
    "\n",
    "````doc_analyzed = nlp(\"Hello world\")\n",
    "doc_analyzed\n",
    ">>> Hello world\n",
    "type(doc_analyzed)\n",
    ">>> spacy.tokens.doc.Doc\n",
    "````"
   ]
  },
  {
   "cell_type": "code",
   "execution_count": 32,
   "metadata": {},
   "outputs": [
    {
     "data": {
      "text/plain": [
       "spacy.tokens.doc.Doc"
      ]
     },
     "execution_count": 32,
     "metadata": {},
     "output_type": "execute_result"
    }
   ],
   "source": [
    "doc = nlp(one_text)\n",
    "type(doc)"
   ]
  },
  {
   "cell_type": "markdown",
   "metadata": {},
   "source": [
    "\n",
    "**Question**: Use spaCy to list each token in the ````text```` of the document with id 1500.\n",
    "\n",
    "*Hint: spacy.tokens.doc.Doc is an iterable*"
   ]
  },
  {
   "cell_type": "code",
   "execution_count": 33,
   "metadata": {},
   "outputs": [
    {
     "name": "stdout",
     "output_type": "stream",
     "text": [
      "c'\n",
      "est\n",
      "pour\n",
      "ça\n",
      "que\n",
      "nous\n",
      "sommes\n",
      "associés\n",
      "à\n",
      "elle\n"
     ]
    }
   ],
   "source": [
    "doc1500 = nlp(df_radios.loc[1500].text)\n",
    "for token in doc1500:\n",
    "    print(token.text)"
   ]
  },
  {
   "cell_type": "markdown",
   "metadata": {},
   "source": [
    "**Question**: List the POS of every token from the previous exercise. Do you agree with spaCy?\n",
    "\n",
    "*Hint: use token.pos_*"
   ]
  },
  {
   "cell_type": "code",
   "execution_count": 34,
   "metadata": {},
   "outputs": [
    {
     "name": "stdout",
     "output_type": "stream",
     "text": [
      "c' PRON\n",
      "est AUX\n",
      "pour ADP\n",
      "ça PRON\n",
      "que PRON\n",
      "nous PRON\n",
      "sommes AUX\n",
      "associés VERB\n",
      "à ADP\n",
      "elle PRON\n"
     ]
    }
   ],
   "source": [
    "for token in doc1500:\n",
    "    print(token.text, token.pos_)"
   ]
  },
  {
   "cell_type": "markdown",
   "metadata": {},
   "source": [
    "The lemma of a term is the simplest and most distilled version of the term, without prefixes, suffixes, etc. Converting terms to lemmas can be useful in order to reduce the vocabulary size of a corpus and group terms into equivalence classes. For example, \"run\", \"runs\", \"running\", and \"ran\" all share roughly the same semantic meaning, and in some contexts (though not all!) should be treated the same way.\n",
    "\n",
    "**Question**: extract the lemmas from the previous exercise. Which terms stay the same, and which differ? In what ways do they differ?\n",
    "\n",
    "*Hint: use token.lemma_*"
   ]
  },
  {
   "cell_type": "code",
   "execution_count": 35,
   "metadata": {},
   "outputs": [
    {
     "name": "stdout",
     "output_type": "stream",
     "text": [
      "ce\n",
      "être\n",
      "pour\n",
      "cela\n",
      "que\n",
      "nous\n",
      "être\n",
      "associer\n",
      "à\n",
      "lui\n"
     ]
    }
   ],
   "source": [
    "for token in doc1500:\n",
    "    print(token.lemma_)"
   ]
  },
  {
   "cell_type": "markdown",
   "metadata": {},
   "source": [
    "**Answer**: They almost all differ. It either puts the word to masculin, develops it, or get its verbal base:  \n",
    "    c' -> ce  \n",
    "    elle -> lui  \n",
    "    est -> être"
   ]
  },
  {
   "cell_type": "markdown",
   "metadata": {},
   "source": [
    "**Question**: How many unique terms are there among all the texts? How many unique *lemmas* are there among all the texts?"
   ]
  },
  {
   "cell_type": "code",
   "execution_count": 36,
   "metadata": {},
   "outputs": [
    {
     "data": {
      "text/plain": [
       "34035"
      ]
     },
     "execution_count": 36,
     "metadata": {},
     "output_type": "execute_result"
    }
   ],
   "source": [
    "len(text_vocab)"
   ]
  },
  {
   "cell_type": "code",
   "execution_count": 37,
   "metadata": {},
   "outputs": [
    {
     "data": {
      "text/plain": [
       "24472"
      ]
     },
     "execution_count": 37,
     "metadata": {},
     "output_type": "execute_result"
    }
   ],
   "source": [
    "lemmas = {}\n",
    "\n",
    "def create_lemmas(sentence):\n",
    "    for token in nlp(sentence):\n",
    "        lemmas[token.lemma_] = True\n",
    "\n",
    "df_radios.text.apply(create_lemmas)\n",
    "\n",
    "len(lemmas)"
   ]
  },
  {
   "cell_type": "markdown",
   "metadata": {},
   "source": [
    "**Question**: Plot the distribution of POS over the all the texts."
   ]
  },
  {
   "cell_type": "code",
   "execution_count": 38,
   "metadata": {},
   "outputs": [
    {
     "data": {
      "text/plain": [
       "0        None\n",
       "1        None\n",
       "2        None\n",
       "3        None\n",
       "4        None\n",
       "         ... \n",
       "35351    None\n",
       "35352    None\n",
       "35353    None\n",
       "35354    None\n",
       "35355    None\n",
       "Name: text, Length: 35356, dtype: object"
      ]
     },
     "execution_count": 38,
     "metadata": {},
     "output_type": "execute_result"
    }
   ],
   "source": [
    "pos = {}\n",
    "\n",
    "def create_pos(sentence):\n",
    "    for token in nlp(sentence):\n",
    "        pos_ = token.pos_\n",
    "        if pos_ in pos.keys():\n",
    "            pos[pos_] += 1\n",
    "        else:\n",
    "            pos[pos_] = 1\n",
    "\n",
    "df_radios.text.apply(create_pos)"
   ]
  },
  {
   "cell_type": "code",
   "execution_count": 39,
   "metadata": {},
   "outputs": [
    {
     "data": {
      "text/plain": [
       "<BarContainer object of 16 artists>"
      ]
     },
     "execution_count": 39,
     "metadata": {},
     "output_type": "execute_result"
    },
    {
     "data": {
      "image/png": "[encoded data removed]",
      "text/plain": [
       "<Figure size 432x288 with 1 Axes>"
      ]
     },
     "metadata": {
      "needs_background": "light"
     },
     "output_type": "display_data"
    }
   ],
   "source": [
    "plt.bar(pos.keys(), pos.values())"
   ]
  },
  {
   "cell_type": "markdown",
   "metadata": {},
   "source": [
    "**Question**: Plot the distribution of the 100 most common words over the all the texts, provided that they are not space or punctuation. Use a log scale for the y axes and describe the graph: the y axis should be frequency, and the x axis should be words sorted by frequency.\n",
    "\n",
    "*Hint: see [Zipf's law](https://en.wikipedia.org/wiki/Zipf%27s_law)*"
   ]
  },
  {
   "cell_type": "code",
   "execution_count": 40,
   "metadata": {},
   "outputs": [
    {
     "data": {
      "text/plain": [
       "<AxesSubplot:>"
      ]
     },
     "execution_count": 40,
     "metadata": {},
     "output_type": "execute_result"
    },
    {
     "data": {
      "image/png": "[encoded data removed]",
      "text/plain": [
       "<Figure size 432x288 with 1 Axes>"
      ]
     },
     "metadata": {
      "needs_background": "light"
     },
     "output_type": "display_data"
    }
   ],
   "source": [
    "pd.Series(' '.join(df_radios.text).split()).value_counts().head(100).plot(logy=True)"
   ]
  },
  {
   "cell_type": "markdown",
   "metadata": {},
   "source": [
    "## Stop words\n",
    "\n",
    "Stop words are words that, under some frameworks, contribute marginal semantic value, but are important for syntax. For example, \"the\", \"and\", \"such\", etc.\n",
    "\n",
    "**Question**: In what kind of analysis can we strike stop words without worrying about losing information? In what kind of analysis might we want to keep them around?\n",
    "\n",
    "\n",
    "**Question**: Write a function:\n",
    "\n",
    "````def clean(sentence)````\n",
    "\n",
    "that strikes all stop words, replaces each remaining token with its lemma. Create a cleaned version of each abstract, and save this cleaned version as a new column of the dataframe called \"text_clean\"."
   ]
  },
  {
   "cell_type": "markdown",
   "metadata": {},
   "source": [
    "**Answer**: We want to keep the stop words when performing a syntaxical analysis, and we can strike them when doing semantical analysis."
   ]
  },
  {
   "cell_type": "code",
   "execution_count": 41,
   "metadata": {},
   "outputs": [
    {
     "data": {
      "text/html": [
       "<div>\n",
       "<style scoped>\n",
       "    .dataframe tbody tr th:only-of-type {\n",
       "        vertical-align: middle;\n",
       "    }\n",
       "\n",
       "    .dataframe tbody tr th {\n",
       "        vertical-align: top;\n",
       "    }\n",
       "\n",
       "    .dataframe thead th {\n",
       "        text-align: right;\n",
       "    }\n",
       "</style>\n",
       "<table border=\"1\" class=\"dataframe\">\n",
       "  <thead>\n",
       "    <tr style=\"text-align: right;\">\n",
       "      <th></th>\n",
       "      <th>text</th>\n",
       "      <th>lengths</th>\n",
       "      <th>a-z</th>\n",
       "      <th>text_clean</th>\n",
       "    </tr>\n",
       "  </thead>\n",
       "  <tbody>\n",
       "    <tr>\n",
       "      <th>0</th>\n",
       "      <td>patricia martin que voici que voilà</td>\n",
       "      <td>6</td>\n",
       "      <td>True</td>\n",
       "      <td>patricia martin</td>\n",
       "    </tr>\n",
       "    <tr>\n",
       "      <th>1</th>\n",
       "      <td>oh bonjour nicolas stoufflet</td>\n",
       "      <td>4</td>\n",
       "      <td>True</td>\n",
       "      <td>oh bonjour nicola stoufflet</td>\n",
       "    </tr>\n",
       "    <tr>\n",
       "      <th>2</th>\n",
       "      <td>france-inter sept heures</td>\n",
       "      <td>3</td>\n",
       "      <td>True</td>\n",
       "      <td>france - inter heure</td>\n",
       "    </tr>\n",
       "    <tr>\n",
       "      <th>3</th>\n",
       "      <td>le journal simon tivolle</td>\n",
       "      <td>4</td>\n",
       "      <td>True</td>\n",
       "      <td>journal simon tivolle</td>\n",
       "    </tr>\n",
       "    <tr>\n",
       "      <th>4</th>\n",
       "      <td>bonjour</td>\n",
       "      <td>1</td>\n",
       "      <td>True</td>\n",
       "      <td>bonjour</td>\n",
       "    </tr>\n",
       "  </tbody>\n",
       "</table>\n",
       "</div>"
      ],
      "text/plain": [
       "                                  text  lengths   a-z  \\\n",
       "0  patricia martin que voici que voilà        6  True   \n",
       "1         oh bonjour nicolas stoufflet        4  True   \n",
       "2             france-inter sept heures        3  True   \n",
       "3             le journal simon tivolle        4  True   \n",
       "4                              bonjour        1  True   \n",
       "\n",
       "                     text_clean  \n",
       "0              patricia martin   \n",
       "1  oh bonjour nicola stoufflet   \n",
       "2         france - inter heure   \n",
       "3        journal simon tivolle   \n",
       "4                      bonjour   "
      ]
     },
     "execution_count": 41,
     "metadata": {},
     "output_type": "execute_result"
    }
   ],
   "source": [
    "def clean(sentence):\n",
    "    s = \"\"\n",
    "    for token in nlp(sentence):\n",
    "        if not token.is_stop:\n",
    "            s += token.lemma_ + \" \"\n",
    "    return s\n",
    "\n",
    "df_radios[\"text_clean\"] = df_radios.text.apply(clean)\n",
    "\n",
    "df_radios.head()"
   ]
  },
  {
   "cell_type": "markdown",
   "metadata": {},
   "source": [
    "## Dependencies\n",
    "spaCy calculates dependencies between different tokens:"
   ]
  },
  {
   "cell_type": "code",
   "execution_count": 42,
   "metadata": {},
   "outputs": [
    {
     "name": "stdout",
     "output_type": "stream",
     "text": [
      "Hello PROPN Hello\n",
      "! PUNCT Hello\n",
      "I NOUN I\n",
      "hope NOUN hope\n",
      "you NOUN hope\n",
      "are VERB hope\n",
      "well PROPN hope\n",
      ". PUNCT hope\n"
     ]
    }
   ],
   "source": [
    "exp_doc = nlp(\"Hello! I hope you are well.\")\n",
    "# exp_doc = nlp(one_text)\n",
    "for word in exp_doc:\n",
    "   print(word.text, word.tag_, word.head)"
   ]
  },
  {
   "cell_type": "markdown",
   "metadata": {},
   "source": [
    "We can visualize this using dispacy, a visualization library:"
   ]
  },
  {
   "cell_type": "code",
   "execution_count": 43,
   "metadata": {},
   "outputs": [
    {
     "data": {
      "text/html": [
       "<span class=\"tex2jax_ignore\"><svg xmlns=\"http://www.w3.org/2000/svg\" xmlns:xlink=\"http://www.w3.org/1999/xlink\" xml:lang=\"fr\" id=\"84da315f24f240a4a9fe212635c016fd-0\" class=\"displacy\" width=\"830\" height=\"332.0\" direction=\"ltr\" style=\"max-width: none; height: 332.0px; color: #000000; background: #ffffff; font-family: Arial; direction: ltr\">\n",
       "<text class=\"displacy-token\" fill=\"currentColor\" text-anchor=\"middle\" y=\"242.0\">\n",
       "    <tspan class=\"displacy-word\" fill=\"currentColor\" x=\"50\">Hello!</tspan>\n",
       "    <tspan class=\"displacy-tag\" dy=\"2em\" fill=\"currentColor\" x=\"50\">PROPN</tspan>\n",
       "</text>\n",
       "\n",
       "<text class=\"displacy-token\" fill=\"currentColor\" text-anchor=\"middle\" y=\"242.0\">\n",
       "    <tspan class=\"displacy-word\" fill=\"currentColor\" x=\"180\">I</tspan>\n",
       "    <tspan class=\"displacy-tag\" dy=\"2em\" fill=\"currentColor\" x=\"180\">NOUN</tspan>\n",
       "</text>\n",
       "\n",
       "<text class=\"displacy-token\" fill=\"currentColor\" text-anchor=\"middle\" y=\"242.0\">\n",
       "    <tspan class=\"displacy-word\" fill=\"currentColor\" x=\"310\">hope</tspan>\n",
       "    <tspan class=\"displacy-tag\" dy=\"2em\" fill=\"currentColor\" x=\"310\">NOUN</tspan>\n",
       "</text>\n",
       "\n",
       "<text class=\"displacy-token\" fill=\"currentColor\" text-anchor=\"middle\" y=\"242.0\">\n",
       "    <tspan class=\"displacy-word\" fill=\"currentColor\" x=\"440\">you</tspan>\n",
       "    <tspan class=\"displacy-tag\" dy=\"2em\" fill=\"currentColor\" x=\"440\">NOUN</tspan>\n",
       "</text>\n",
       "\n",
       "<text class=\"displacy-token\" fill=\"currentColor\" text-anchor=\"middle\" y=\"242.0\">\n",
       "    <tspan class=\"displacy-word\" fill=\"currentColor\" x=\"570\">are</tspan>\n",
       "    <tspan class=\"displacy-tag\" dy=\"2em\" fill=\"currentColor\" x=\"570\">VERB</tspan>\n",
       "</text>\n",
       "\n",
       "<text class=\"displacy-token\" fill=\"currentColor\" text-anchor=\"middle\" y=\"242.0\">\n",
       "    <tspan class=\"displacy-word\" fill=\"currentColor\" x=\"700\">well.</tspan>\n",
       "    <tspan class=\"displacy-tag\" dy=\"2em\" fill=\"currentColor\" x=\"700\">PROPN</tspan>\n",
       "</text>\n",
       "\n",
       "<g class=\"displacy-arrow\">\n",
       "    <path class=\"displacy-arc\" id=\"arrow-84da315f24f240a4a9fe212635c016fd-0-0\" stroke-width=\"2px\" d=\"M330,197.0 C330,132.0 430.0,132.0 430.0,197.0\" fill=\"none\" stroke=\"currentColor\"/>\n",
       "    <text dy=\"1.25em\" style=\"font-size: 0.8em; letter-spacing: 1px\">\n",
       "        <textPath xlink:href=\"#arrow-84da315f24f240a4a9fe212635c016fd-0-0\" class=\"displacy-label\" startOffset=\"50%\" side=\"left\" fill=\"currentColor\" text-anchor=\"middle\">nmod</textPath>\n",
       "    </text>\n",
       "    <path class=\"displacy-arrowhead\" d=\"M430.0,199.0 L438.0,187.0 422.0,187.0\" fill=\"currentColor\"/>\n",
       "</g>\n",
       "\n",
       "<g class=\"displacy-arrow\">\n",
       "    <path class=\"displacy-arc\" id=\"arrow-84da315f24f240a4a9fe212635c016fd-0-1\" stroke-width=\"2px\" d=\"M330,197.0 C330,67.0 565.0,67.0 565.0,197.0\" fill=\"none\" stroke=\"currentColor\"/>\n",
       "    <text dy=\"1.25em\" style=\"font-size: 0.8em; letter-spacing: 1px\">\n",
       "        <textPath xlink:href=\"#arrow-84da315f24f240a4a9fe212635c016fd-0-1\" class=\"displacy-label\" startOffset=\"50%\" side=\"left\" fill=\"currentColor\" text-anchor=\"middle\">nmod</textPath>\n",
       "    </text>\n",
       "    <path class=\"displacy-arrowhead\" d=\"M565.0,199.0 L573.0,187.0 557.0,187.0\" fill=\"currentColor\"/>\n",
       "</g>\n",
       "\n",
       "<g class=\"displacy-arrow\">\n",
       "    <path class=\"displacy-arc\" id=\"arrow-84da315f24f240a4a9fe212635c016fd-0-2\" stroke-width=\"2px\" d=\"M330,197.0 C330,2.0 700.0,2.0 700.0,197.0\" fill=\"none\" stroke=\"currentColor\"/>\n",
       "    <text dy=\"1.25em\" style=\"font-size: 0.8em; letter-spacing: 1px\">\n",
       "        <textPath xlink:href=\"#arrow-84da315f24f240a4a9fe212635c016fd-0-2\" class=\"displacy-label\" startOffset=\"50%\" side=\"left\" fill=\"currentColor\" text-anchor=\"middle\">nmod</textPath>\n",
       "    </text>\n",
       "    <path class=\"displacy-arrowhead\" d=\"M700.0,199.0 L708.0,187.0 692.0,187.0\" fill=\"currentColor\"/>\n",
       "</g>\n",
       "</svg></span>"
      ],
      "text/plain": [
       "<IPython.core.display.HTML object>"
      ]
     },
     "metadata": {},
     "output_type": "display_data"
    }
   ],
   "source": [
    "from spacy import displacy\n",
    "displacy.render(exp_doc, style='dep', jupyter=True, options={'distance': 130})"
   ]
  },
  {
   "cell_type": "markdown",
   "metadata": {},
   "source": [
    "**Question**: Visualize a random title from the dataframe - describe the visualization."
   ]
  },
  {
   "cell_type": "code",
   "execution_count": 44,
   "metadata": {},
   "outputs": [
    {
     "data": {
      "text/html": [
       "<span class=\"tex2jax_ignore\"><svg xmlns=\"http://www.w3.org/2000/svg\" xmlns:xlink=\"http://www.w3.org/1999/xlink\" xml:lang=\"fr\" id=\"19613f69220b40d1b5313e31d1eaadf0-0\" class=\"displacy\" width=\"1350\" height=\"397.0\" direction=\"ltr\" style=\"max-width: none; height: 397.0px; color: #000000; background: #ffffff; font-family: Arial; direction: ltr\">\n",
       "<text class=\"displacy-token\" fill=\"currentColor\" text-anchor=\"middle\" y=\"307.0\">\n",
       "    <tspan class=\"displacy-word\" fill=\"currentColor\" x=\"50\">c'</tspan>\n",
       "    <tspan class=\"displacy-tag\" dy=\"2em\" fill=\"currentColor\" x=\"50\">PRON</tspan>\n",
       "</text>\n",
       "\n",
       "<text class=\"displacy-token\" fill=\"currentColor\" text-anchor=\"middle\" y=\"307.0\">\n",
       "    <tspan class=\"displacy-word\" fill=\"currentColor\" x=\"180\">est</tspan>\n",
       "    <tspan class=\"displacy-tag\" dy=\"2em\" fill=\"currentColor\" x=\"180\">AUX</tspan>\n",
       "</text>\n",
       "\n",
       "<text class=\"displacy-token\" fill=\"currentColor\" text-anchor=\"middle\" y=\"307.0\">\n",
       "    <tspan class=\"displacy-word\" fill=\"currentColor\" x=\"310\">pour</tspan>\n",
       "    <tspan class=\"displacy-tag\" dy=\"2em\" fill=\"currentColor\" x=\"310\">ADP</tspan>\n",
       "</text>\n",
       "\n",
       "<text class=\"displacy-token\" fill=\"currentColor\" text-anchor=\"middle\" y=\"307.0\">\n",
       "    <tspan class=\"displacy-word\" fill=\"currentColor\" x=\"440\">ça</tspan>\n",
       "    <tspan class=\"displacy-tag\" dy=\"2em\" fill=\"currentColor\" x=\"440\">PRON</tspan>\n",
       "</text>\n",
       "\n",
       "<text class=\"displacy-token\" fill=\"currentColor\" text-anchor=\"middle\" y=\"307.0\">\n",
       "    <tspan class=\"displacy-word\" fill=\"currentColor\" x=\"570\">que</tspan>\n",
       "    <tspan class=\"displacy-tag\" dy=\"2em\" fill=\"currentColor\" x=\"570\">PRON</tspan>\n",
       "</text>\n",
       "\n",
       "<text class=\"displacy-token\" fill=\"currentColor\" text-anchor=\"middle\" y=\"307.0\">\n",
       "    <tspan class=\"displacy-word\" fill=\"currentColor\" x=\"700\">nous</tspan>\n",
       "    <tspan class=\"displacy-tag\" dy=\"2em\" fill=\"currentColor\" x=\"700\">PRON</tspan>\n",
       "</text>\n",
       "\n",
       "<text class=\"displacy-token\" fill=\"currentColor\" text-anchor=\"middle\" y=\"307.0\">\n",
       "    <tspan class=\"displacy-word\" fill=\"currentColor\" x=\"830\">sommes</tspan>\n",
       "    <tspan class=\"displacy-tag\" dy=\"2em\" fill=\"currentColor\" x=\"830\">AUX</tspan>\n",
       "</text>\n",
       "\n",
       "<text class=\"displacy-token\" fill=\"currentColor\" text-anchor=\"middle\" y=\"307.0\">\n",
       "    <tspan class=\"displacy-word\" fill=\"currentColor\" x=\"960\">associés</tspan>\n",
       "    <tspan class=\"displacy-tag\" dy=\"2em\" fill=\"currentColor\" x=\"960\">VERB</tspan>\n",
       "</text>\n",
       "\n",
       "<text class=\"displacy-token\" fill=\"currentColor\" text-anchor=\"middle\" y=\"307.0\">\n",
       "    <tspan class=\"displacy-word\" fill=\"currentColor\" x=\"1090\">à</tspan>\n",
       "    <tspan class=\"displacy-tag\" dy=\"2em\" fill=\"currentColor\" x=\"1090\">ADP</tspan>\n",
       "</text>\n",
       "\n",
       "<text class=\"displacy-token\" fill=\"currentColor\" text-anchor=\"middle\" y=\"307.0\">\n",
       "    <tspan class=\"displacy-word\" fill=\"currentColor\" x=\"1220\">elle</tspan>\n",
       "    <tspan class=\"displacy-tag\" dy=\"2em\" fill=\"currentColor\" x=\"1220\">PRON</tspan>\n",
       "</text>\n",
       "\n",
       "<g class=\"displacy-arrow\">\n",
       "    <path class=\"displacy-arc\" id=\"arrow-19613f69220b40d1b5313e31d1eaadf0-0-0\" stroke-width=\"2px\" d=\"M70,262.0 C70,67.0 435.0,67.0 435.0,262.0\" fill=\"none\" stroke=\"currentColor\"/>\n",
       "    <text dy=\"1.25em\" style=\"font-size: 0.8em; letter-spacing: 1px\">\n",
       "        <textPath xlink:href=\"#arrow-19613f69220b40d1b5313e31d1eaadf0-0-0\" class=\"displacy-label\" startOffset=\"50%\" side=\"left\" fill=\"currentColor\" text-anchor=\"middle\">nsubj</textPath>\n",
       "    </text>\n",
       "    <path class=\"displacy-arrowhead\" d=\"M70,264.0 L62,252.0 78,252.0\" fill=\"currentColor\"/>\n",
       "</g>\n",
       "\n",
       "<g class=\"displacy-arrow\">\n",
       "    <path class=\"displacy-arc\" id=\"arrow-19613f69220b40d1b5313e31d1eaadf0-0-1\" stroke-width=\"2px\" d=\"M200,262.0 C200,132.0 430.0,132.0 430.0,262.0\" fill=\"none\" stroke=\"currentColor\"/>\n",
       "    <text dy=\"1.25em\" style=\"font-size: 0.8em; letter-spacing: 1px\">\n",
       "        <textPath xlink:href=\"#arrow-19613f69220b40d1b5313e31d1eaadf0-0-1\" class=\"displacy-label\" startOffset=\"50%\" side=\"left\" fill=\"currentColor\" text-anchor=\"middle\">cop</textPath>\n",
       "    </text>\n",
       "    <path class=\"displacy-arrowhead\" d=\"M200,264.0 L192,252.0 208,252.0\" fill=\"currentColor\"/>\n",
       "</g>\n",
       "\n",
       "<g class=\"displacy-arrow\">\n",
       "    <path class=\"displacy-arc\" id=\"arrow-19613f69220b40d1b5313e31d1eaadf0-0-2\" stroke-width=\"2px\" d=\"M330,262.0 C330,197.0 425.0,197.0 425.0,262.0\" fill=\"none\" stroke=\"currentColor\"/>\n",
       "    <text dy=\"1.25em\" style=\"font-size: 0.8em; letter-spacing: 1px\">\n",
       "        <textPath xlink:href=\"#arrow-19613f69220b40d1b5313e31d1eaadf0-0-2\" class=\"displacy-label\" startOffset=\"50%\" side=\"left\" fill=\"currentColor\" text-anchor=\"middle\">case</textPath>\n",
       "    </text>\n",
       "    <path class=\"displacy-arrowhead\" d=\"M330,264.0 L322,252.0 338,252.0\" fill=\"currentColor\"/>\n",
       "</g>\n",
       "\n",
       "<g class=\"displacy-arrow\">\n",
       "    <path class=\"displacy-arc\" id=\"arrow-19613f69220b40d1b5313e31d1eaadf0-0-3\" stroke-width=\"2px\" d=\"M590,262.0 C590,67.0 955.0,67.0 955.0,262.0\" fill=\"none\" stroke=\"currentColor\"/>\n",
       "    <text dy=\"1.25em\" style=\"font-size: 0.8em; letter-spacing: 1px\">\n",
       "        <textPath xlink:href=\"#arrow-19613f69220b40d1b5313e31d1eaadf0-0-3\" class=\"displacy-label\" startOffset=\"50%\" side=\"left\" fill=\"currentColor\" text-anchor=\"middle\">obj</textPath>\n",
       "    </text>\n",
       "    <path class=\"displacy-arrowhead\" d=\"M590,264.0 L582,252.0 598,252.0\" fill=\"currentColor\"/>\n",
       "</g>\n",
       "\n",
       "<g class=\"displacy-arrow\">\n",
       "    <path class=\"displacy-arc\" id=\"arrow-19613f69220b40d1b5313e31d1eaadf0-0-4\" stroke-width=\"2px\" d=\"M720,262.0 C720,132.0 950.0,132.0 950.0,262.0\" fill=\"none\" stroke=\"currentColor\"/>\n",
       "    <text dy=\"1.25em\" style=\"font-size: 0.8em; letter-spacing: 1px\">\n",
       "        <textPath xlink:href=\"#arrow-19613f69220b40d1b5313e31d1eaadf0-0-4\" class=\"displacy-label\" startOffset=\"50%\" side=\"left\" fill=\"currentColor\" text-anchor=\"middle\">nsubj</textPath>\n",
       "    </text>\n",
       "    <path class=\"displacy-arrowhead\" d=\"M720,264.0 L712,252.0 728,252.0\" fill=\"currentColor\"/>\n",
       "</g>\n",
       "\n",
       "<g class=\"displacy-arrow\">\n",
       "    <path class=\"displacy-arc\" id=\"arrow-19613f69220b40d1b5313e31d1eaadf0-0-5\" stroke-width=\"2px\" d=\"M850,262.0 C850,197.0 945.0,197.0 945.0,262.0\" fill=\"none\" stroke=\"currentColor\"/>\n",
       "    <text dy=\"1.25em\" style=\"font-size: 0.8em; letter-spacing: 1px\">\n",
       "        <textPath xlink:href=\"#arrow-19613f69220b40d1b5313e31d1eaadf0-0-5\" class=\"displacy-label\" startOffset=\"50%\" side=\"left\" fill=\"currentColor\" text-anchor=\"middle\">cop</textPath>\n",
       "    </text>\n",
       "    <path class=\"displacy-arrowhead\" d=\"M850,264.0 L842,252.0 858,252.0\" fill=\"currentColor\"/>\n",
       "</g>\n",
       "\n",
       "<g class=\"displacy-arrow\">\n",
       "    <path class=\"displacy-arc\" id=\"arrow-19613f69220b40d1b5313e31d1eaadf0-0-6\" stroke-width=\"2px\" d=\"M460,262.0 C460,2.0 960.0,2.0 960.0,262.0\" fill=\"none\" stroke=\"currentColor\"/>\n",
       "    <text dy=\"1.25em\" style=\"font-size: 0.8em; letter-spacing: 1px\">\n",
       "        <textPath xlink:href=\"#arrow-19613f69220b40d1b5313e31d1eaadf0-0-6\" class=\"displacy-label\" startOffset=\"50%\" side=\"left\" fill=\"currentColor\" text-anchor=\"middle\">acl:relcl</textPath>\n",
       "    </text>\n",
       "    <path class=\"displacy-arrowhead\" d=\"M960.0,264.0 L968.0,252.0 952.0,252.0\" fill=\"currentColor\"/>\n",
       "</g>\n",
       "\n",
       "<g class=\"displacy-arrow\">\n",
       "    <path class=\"displacy-arc\" id=\"arrow-19613f69220b40d1b5313e31d1eaadf0-0-7\" stroke-width=\"2px\" d=\"M1110,262.0 C1110,197.0 1205.0,197.0 1205.0,262.0\" fill=\"none\" stroke=\"currentColor\"/>\n",
       "    <text dy=\"1.25em\" style=\"font-size: 0.8em; letter-spacing: 1px\">\n",
       "        <textPath xlink:href=\"#arrow-19613f69220b40d1b5313e31d1eaadf0-0-7\" class=\"displacy-label\" startOffset=\"50%\" side=\"left\" fill=\"currentColor\" text-anchor=\"middle\">case</textPath>\n",
       "    </text>\n",
       "    <path class=\"displacy-arrowhead\" d=\"M1110,264.0 L1102,252.0 1118,252.0\" fill=\"currentColor\"/>\n",
       "</g>\n",
       "\n",
       "<g class=\"displacy-arrow\">\n",
       "    <path class=\"displacy-arc\" id=\"arrow-19613f69220b40d1b5313e31d1eaadf0-0-8\" stroke-width=\"2px\" d=\"M980,262.0 C980,132.0 1210.0,132.0 1210.0,262.0\" fill=\"none\" stroke=\"currentColor\"/>\n",
       "    <text dy=\"1.25em\" style=\"font-size: 0.8em; letter-spacing: 1px\">\n",
       "        <textPath xlink:href=\"#arrow-19613f69220b40d1b5313e31d1eaadf0-0-8\" class=\"displacy-label\" startOffset=\"50%\" side=\"left\" fill=\"currentColor\" text-anchor=\"middle\">obl:mod</textPath>\n",
       "    </text>\n",
       "    <path class=\"displacy-arrowhead\" d=\"M1210.0,264.0 L1218.0,252.0 1202.0,252.0\" fill=\"currentColor\"/>\n",
       "</g>\n",
       "</svg></span>"
      ],
      "text/plain": [
       "<IPython.core.display.HTML object>"
      ]
     },
     "metadata": {},
     "output_type": "display_data"
    }
   ],
   "source": [
    "displacy.render(nlp(df_radios.iloc[1500].text), style='dep', jupyter=True, options={'distance': 130})"
   ]
  },
  {
   "cell_type": "markdown",
   "metadata": {},
   "source": [
    "**Answer**: The graph describes the dependancy between each groups of words, and then the dependancies inside of each group:  \n",
    "que nous sommes associés -> à elle (obl:mod)  \n",
    "elle -> à (case)"
   ]
  },
  {
   "cell_type": "markdown",
   "metadata": {},
   "source": [
    "## NER\n",
    "\n",
    "spaCy can determine named entities."
   ]
  },
  {
   "cell_type": "code",
   "execution_count": 45,
   "metadata": {},
   "outputs": [
    {
     "name": "stdout",
     "output_type": "stream",
     "text": [
      "ENT:  Joe Biden PER Named person or family.\n"
     ]
    }
   ],
   "source": [
    "\n",
    "for ent in nlp(\"Joe Biden is the president of the USA\").ents:\n",
    "    print(\"ENT: \", ent.text, ent.label_, spacy.explain(ent.label_))\n"
   ]
  },
  {
   "cell_type": "markdown",
   "metadata": {},
   "source": [
    "**Question**: calculate the ten most common named entities and the five most common labels among the texts."
   ]
  },
  {
   "cell_type": "code",
   "execution_count": 46,
   "metadata": {},
   "outputs": [
    {
     "data": {
      "text/plain": [
       "0        None\n",
       "1        None\n",
       "2        None\n",
       "3        None\n",
       "4        None\n",
       "         ... \n",
       "35351    None\n",
       "35352    None\n",
       "35353    None\n",
       "35354    None\n",
       "35355    None\n",
       "Name: text, Length: 35356, dtype: object"
      ]
     },
     "execution_count": 46,
     "metadata": {},
     "output_type": "execute_result"
    }
   ],
   "source": [
    "entities = {}\n",
    "labels = {}\n",
    "\n",
    "def create_dics(sentence):\n",
    "    for ent in nlp(sentence).ents:\n",
    "        if ent.text in entities.keys():\n",
    "            entities[ent.text] += 1\n",
    "        else:\n",
    "            entities[ent.text] = 1\n",
    "        if ent.label_ in labels.keys():\n",
    "            labels[ent.label_] += 1\n",
    "        else:\n",
    "            labels[ent.label_] = 1\n",
    "\n",
    "df_radios.text.apply(create_dics)\n"
   ]
  },
  {
   "cell_type": "code",
   "execution_count": 48,
   "metadata": {},
   "outputs": [
    {
     "name": "stdout",
     "output_type": "stream",
     "text": [
      "{'irak': 769, 'paris': 601, 'france': 566, 'la france': 510, 'états unis': 489, 'bagdad': 475, 'israël': 401, 'américains': 335, 'saddam hussein': 318, 'europe': 288, 'état': 277}\n",
      "{'LOC': 15532, 'PER': 10650, 'ORG': 3344, 'MISC': 2409}\n"
     ]
    }
   ],
   "source": [
    "\n",
    "print(dict(sorted(entities.items(), key=lambda item: item[1], reverse=True)[:11]))\n",
    "print(dict(sorted(labels.items(), key=lambda item: item[1], reverse=True)[:6]))\n"
   ]
  },
  {
   "cell_type": "markdown",
   "metadata": {},
   "source": [
    "## TF-IDF\n",
    "\n",
    "One of the most important statistics we can calculate for a document is the TF-IDF score. This stands for \"term frequency-inverse document frequency\" score, and it is a measure of the importance of each word to a given document, in the context of the corpus of documents. For each word in each document, we calculate the following ratio:\n",
    "\n",
    "${TF_{word; doc}}\\times{IDF_{word; doc}}$\n",
    "\n",
    "$TF_{word; doc} = \\frac{\\text{Total counts of word in doc}}{\\text{Number of terms in doc}}$\n",
    "\n",
    "$IDF_{word; doc} = \\log{\\left(\\frac{|\\text{corpus}|}{\\text{Number of docs containing word}}\\right)}$\n",
    "\n",
    "To have a high TF-IDF score in a document, a word must occur frequently in a document, while appearing rarely in others.\n",
    "\n",
    "**Question**: Give the limits of TF and IDF for a word/document pair, and give an example of a word-document pair where this might occur (for example, word=\"Hello\", doc=Wikipedia page for greetings, corpus=all of Wikipedia).\n"
   ]
  },
  {
   "cell_type": "markdown",
   "metadata": {},
   "source": [
    "**Answer**:  \n",
    "limit max TF = 1  \n",
    "limit min TF = 0  \n",
    "limit max IDF = log(|corpus|)  \n",
    "limit min IDF = 0  \n",
    "limit max TF-IDF = log(|corpus|)  \n",
    "limit min TF-IDF = 0"
   ]
  },
  {
   "cell_type": "markdown",
   "metadata": {},
   "source": [
    "**Question**: Code the functions TF and IDF:\n"
   ]
  },
  {
   "cell_type": "code",
   "execution_count": 49,
   "metadata": {},
   "outputs": [
    {
     "data": {
      "text/plain": [
       "0.0"
      ]
     },
     "execution_count": 49,
     "metadata": {},
     "output_type": "execute_result"
    }
   ],
   "source": [
    "def tf(word, document):\n",
    "    l = document.split(\" \")\n",
    "    return l.count(word)/len(l)\n",
    "        \n",
    "\n",
    "def idf(word, all_documents):\n",
    "    c = 0\n",
    "    for doc in all_documents:\n",
    "        if tf(word, doc) > 0:\n",
    "            c += 1\n",
    "    return log(len(all_documents)/c)\n",
    "\n",
    "\n",
    "\n",
    "def tf_idf(word, document, all_documents):\n",
    "    return tf(word, document)*idf(word, all_documents)\n",
    "\n",
    "#test your code:\n",
    "my_text = df_radios.iloc[0].text_clean\n",
    "tf_idf(\"radio\", my_text, df_radios.text_clean)"
   ]
  },
  {
   "cell_type": "markdown",
   "metadata": {},
   "source": [
    "**Question**: What is the word with the highest and lowest TF-IDF score?"
   ]
  },
  {
   "cell_type": "code",
   "execution_count": null,
   "metadata": {},
   "outputs": [
    {
     "ename": "KeyboardInterrupt",
     "evalue": "",
     "output_type": "error",
     "traceback": [
      "\u001b[0;31m---------------------------------------------------------------------------\u001b[0m",
      "\u001b[0;31mKeyboardInterrupt\u001b[0m                         Traceback (most recent call last)",
      "\u001b[0;32m/tmp/ipykernel_113059/120720144.py\u001b[0m in \u001b[0;36m<module>\u001b[0;34m\u001b[0m\n\u001b[1;32m      5\u001b[0m \u001b[0;32mfor\u001b[0m \u001b[0mw\u001b[0m \u001b[0;32min\u001b[0m \u001b[0mtext_vocab\u001b[0m\u001b[0;34m.\u001b[0m\u001b[0mkeys\u001b[0m\u001b[0;34m(\u001b[0m\u001b[0;34m)\u001b[0m\u001b[0;34m:\u001b[0m\u001b[0;34m\u001b[0m\u001b[0;34m\u001b[0m\u001b[0m\n\u001b[1;32m      6\u001b[0m     \u001b[0;32mfor\u001b[0m \u001b[0mdoc\u001b[0m \u001b[0;32min\u001b[0m \u001b[0mdf_radios\u001b[0m\u001b[0;34m.\u001b[0m\u001b[0mtext\u001b[0m\u001b[0;34m:\u001b[0m\u001b[0;34m\u001b[0m\u001b[0;34m\u001b[0m\u001b[0m\n\u001b[0;32m----> 7\u001b[0;31m         \u001b[0mval\u001b[0m \u001b[0;34m=\u001b[0m \u001b[0mtf_idf\u001b[0m\u001b[0;34m(\u001b[0m\u001b[0mw\u001b[0m\u001b[0;34m,\u001b[0m \u001b[0mdoc\u001b[0m\u001b[0;34m,\u001b[0m \u001b[0mdf_radios\u001b[0m\u001b[0;34m.\u001b[0m\u001b[0mtext\u001b[0m\u001b[0;34m)\u001b[0m\u001b[0;34m\u001b[0m\u001b[0;34m\u001b[0m\u001b[0m\n\u001b[0m\u001b[1;32m      8\u001b[0m         \u001b[0;32mif\u001b[0m \u001b[0mval\u001b[0m \u001b[0;34m<\u001b[0m \u001b[0mmin\u001b[0m\u001b[0;34m:\u001b[0m\u001b[0;34m\u001b[0m\u001b[0;34m\u001b[0m\u001b[0m\n\u001b[1;32m      9\u001b[0m             \u001b[0mwmin\u001b[0m \u001b[0;34m=\u001b[0m \u001b[0mw\u001b[0m\u001b[0;34m\u001b[0m\u001b[0;34m\u001b[0m\u001b[0m\n",
      "\u001b[0;32m/tmp/ipykernel_113059/3426376879.py\u001b[0m in \u001b[0;36mtf_idf\u001b[0;34m(word, document, all_documents)\u001b[0m\n\u001b[1;32m     14\u001b[0m \u001b[0;34m\u001b[0m\u001b[0m\n\u001b[1;32m     15\u001b[0m \u001b[0;32mdef\u001b[0m \u001b[0mtf_idf\u001b[0m\u001b[0;34m(\u001b[0m\u001b[0mword\u001b[0m\u001b[0;34m,\u001b[0m \u001b[0mdocument\u001b[0m\u001b[0;34m,\u001b[0m \u001b[0mall_documents\u001b[0m\u001b[0;34m)\u001b[0m\u001b[0;34m:\u001b[0m\u001b[0;34m\u001b[0m\u001b[0;34m\u001b[0m\u001b[0m\n\u001b[0;32m---> 16\u001b[0;31m     \u001b[0;32mreturn\u001b[0m \u001b[0mtf\u001b[0m\u001b[0;34m(\u001b[0m\u001b[0mword\u001b[0m\u001b[0;34m,\u001b[0m \u001b[0mdocument\u001b[0m\u001b[0;34m)\u001b[0m\u001b[0;34m*\u001b[0m\u001b[0midf\u001b[0m\u001b[0;34m(\u001b[0m\u001b[0mword\u001b[0m\u001b[0;34m,\u001b[0m \u001b[0mall_documents\u001b[0m\u001b[0;34m)\u001b[0m\u001b[0;34m\u001b[0m\u001b[0;34m\u001b[0m\u001b[0m\n\u001b[0m\u001b[1;32m     17\u001b[0m \u001b[0;34m\u001b[0m\u001b[0m\n\u001b[1;32m     18\u001b[0m \u001b[0;31m#test your code:\u001b[0m\u001b[0;34m\u001b[0m\u001b[0;34m\u001b[0m\u001b[0m\n",
      "\u001b[0;32m/tmp/ipykernel_113059/3426376879.py\u001b[0m in \u001b[0;36midf\u001b[0;34m(word, all_documents)\u001b[0m\n\u001b[1;32m      1\u001b[0m \u001b[0;32mdef\u001b[0m \u001b[0mtf\u001b[0m\u001b[0;34m(\u001b[0m\u001b[0mword\u001b[0m\u001b[0;34m,\u001b[0m \u001b[0mdocument\u001b[0m\u001b[0;34m)\u001b[0m\u001b[0;34m:\u001b[0m\u001b[0;34m\u001b[0m\u001b[0;34m\u001b[0m\u001b[0m\n\u001b[1;32m      2\u001b[0m     \u001b[0ml\u001b[0m \u001b[0;34m=\u001b[0m \u001b[0mdocument\u001b[0m\u001b[0;34m.\u001b[0m\u001b[0msplit\u001b[0m\u001b[0;34m(\u001b[0m\u001b[0;34m\" \"\u001b[0m\u001b[0;34m)\u001b[0m\u001b[0;34m\u001b[0m\u001b[0;34m\u001b[0m\u001b[0m\n\u001b[1;32m      3\u001b[0m     \u001b[0;32mreturn\u001b[0m \u001b[0ml\u001b[0m\u001b[0;34m.\u001b[0m\u001b[0mcount\u001b[0m\u001b[0;34m(\u001b[0m\u001b[0mword\u001b[0m\u001b[0;34m)\u001b[0m\u001b[0;34m/\u001b[0m\u001b[0mlen\u001b[0m\u001b[0;34m(\u001b[0m\u001b[0ml\u001b[0m\u001b[0;34m)\u001b[0m\u001b[0;34m\u001b[0m\u001b[0;34m\u001b[0m\u001b[0m\n\u001b[1;32m      4\u001b[0m \u001b[0;34m\u001b[0m\u001b[0m\n\u001b[1;32m      5\u001b[0m \u001b[0;34m\u001b[0m\u001b[0m\n",
      "\u001b[0;31mKeyboardInterrupt\u001b[0m: "
     ]
    }
   ],
   "source": [
    "max = 0\n",
    "min = len(df_radios.text)\n",
    "wmax, wmin = \"\", \"\"\n",
    "docmax, docmin = 0, 0\n",
    "for w in text_vocab.keys():\n",
    "    for doc in df_radios.text:\n",
    "        val = tf_idf(w, doc, df_radios.text)\n",
    "        if val < min:\n",
    "            wmin = w\n",
    "            docmin = doc\n",
    "        elif val > max:\n",
    "            wmax = w\n",
    "            docmax = doc\n",
    "\n",
    "print(wmax, docmax)\n",
    "print(wmin, docmin)"
   ]
  },
  {
   "cell_type": "markdown",
   "metadata": {},
   "source": [
    "**Question**: If we took each document and duplicated it in place, i.e.:\n",
    "\n",
    "a document \"hello world\" would become \"hello world hello world\", how would the tf-idf score of any document-word pair change?\n",
    "\n",
    "What about if instead of duplicating in place, we doubled the size of the corpus, i.e.\n",
    "\n",
    "if document \"hello world\" is in the corpus once, we add a second copy so now it is in the corpus twice. How would the tf-idf score of any document-word pair change now?"
   ]
  },
  {
   "cell_type": "markdown",
   "metadata": {},
   "source": [
    "**Answer**:  \n",
    "If we duplicate each document in place,the TF_IDF score will remain the same.  \n",
    "If we double the size of the corpus, the TF_IDF score will also remain the same."
   ]
  },
  {
   "cell_type": "markdown",
   "metadata": {},
   "source": [
    "**Question**: What could be a potential use-case for the TF-IDF score in practice?"
   ]
  },
  {
   "cell_type": "markdown",
   "metadata": {},
   "source": [
    "**Answer**: The TF-IDF score converts words to numbers that are easier to use in differents algorithms. We can use it to find relevant words in a corpus."
   ]
  },
  {
   "cell_type": "markdown",
   "metadata": {},
   "source": [
    "### Final Comments \n",
    "\n",
    "Add your conclusions about this lab. You can include your level of satisfation with your work and your opinion on the length and difficulty of the exercises."
   ]
  },
  {
   "cell_type": "markdown",
   "metadata": {},
   "source": [
    "**Answer**: The difficulty is fine thanks to the fact that we've already worked a bit with pandas. The length is good too: just a little at home work to finish. I think it would be great to see the utility of the TF-IDF score in an exemple. However, finding the words with the highest and lowest tf-idf score takes too much time..."
   ]
  }
 ],
 "metadata": {
  "kernelspec": {
   "display_name": "Python 3",
   "language": "python",
   "name": "python3"
  },
  "language_info": {
   "codemirror_mode": {
    "name": "ipython",
    "version": 3
   },
   "file_extension": ".py",
   "mimetype": "text/x-python",
   "name": "python",
   "nbconvert_exporter": "python",
   "pygments_lexer": "ipython3",
   "version": "3.10.12"
  }
 },
 "nbformat": 4,
 "nbformat_minor": 2
}
